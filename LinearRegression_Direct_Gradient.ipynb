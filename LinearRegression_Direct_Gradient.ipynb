{
 "cells": [
  {
   "cell_type": "markdown",
   "id": "1ac5e0ff",
   "metadata": {},
   "source": [
    "# Linear Regression\n",
    "---"
   ]
  },
  {
   "cell_type": "code",
   "execution_count": 1,
   "id": "ebe92715",
   "metadata": {},
   "outputs": [
    {
     "name": "stderr",
     "output_type": "stream",
     "text": [
      "c:\\users\\aiforesee\\appdata\\local\\programs\\python\\python38\\lib\\site-packages\\numpy\\_distributor_init.py:30: UserWarning: loaded more than 1 DLL from .libs:\n",
      "c:\\users\\aiforesee\\appdata\\local\\programs\\python\\python38\\lib\\site-packages\\numpy\\.libs\\libopenblas.PYQHXLVVQ7VESDPUVUADXEVJOBGHJPAY.gfortran-win_amd64.dll\n",
      "c:\\users\\aiforesee\\appdata\\local\\programs\\python\\python38\\lib\\site-packages\\numpy\\.libs\\libopenblas64__v0.3.21-gcc_10_3_0.dll\n",
      "  warnings.warn(\"loaded more than 1 DLL from .libs:\"\n"
     ]
    }
   ],
   "source": [
    "# import library\n",
    "import numpy as np \n",
    "import pandas as pd\n",
    "\n",
    "from collections import defaultdict\n",
    "from sklearn.metrics import mean_squared_error\n",
    "\n",
    "# import scratch\n",
    "from ml_from_scratch.linear_model import LinearRegression"
   ]
  },
  {
   "cell_type": "markdown",
   "id": "f709eeb2",
   "metadata": {},
   "source": [
    "# Simple Dataset\n",
    "---"
   ]
  },
  {
   "cell_type": "code",
   "execution_count": 2,
   "id": "f698f522",
   "metadata": {},
   "outputs": [
    {
     "data": {
      "text/html": [
       "<div>\n",
       "<style scoped>\n",
       "    .dataframe tbody tr th:only-of-type {\n",
       "        vertical-align: middle;\n",
       "    }\n",
       "\n",
       "    .dataframe tbody tr th {\n",
       "        vertical-align: top;\n",
       "    }\n",
       "\n",
       "    .dataframe thead th {\n",
       "        text-align: right;\n",
       "    }\n",
       "</style>\n",
       "<table border=\"1\" class=\"dataframe\">\n",
       "  <thead>\n",
       "    <tr style=\"text-align: right;\">\n",
       "      <th></th>\n",
       "      <th>y</th>\n",
       "      <th>X1</th>\n",
       "      <th>X2</th>\n",
       "    </tr>\n",
       "  </thead>\n",
       "  <tbody>\n",
       "    <tr>\n",
       "      <th>0</th>\n",
       "      <td>9</td>\n",
       "      <td>1</td>\n",
       "      <td>1</td>\n",
       "    </tr>\n",
       "    <tr>\n",
       "      <th>1</th>\n",
       "      <td>12</td>\n",
       "      <td>1</td>\n",
       "      <td>2</td>\n",
       "    </tr>\n",
       "    <tr>\n",
       "      <th>2</th>\n",
       "      <td>14</td>\n",
       "      <td>2</td>\n",
       "      <td>2</td>\n",
       "    </tr>\n",
       "    <tr>\n",
       "      <th>3</th>\n",
       "      <td>17</td>\n",
       "      <td>2</td>\n",
       "      <td>3</td>\n",
       "    </tr>\n",
       "    <tr>\n",
       "      <th>4</th>\n",
       "      <td>19</td>\n",
       "      <td>3</td>\n",
       "      <td>3</td>\n",
       "    </tr>\n",
       "    <tr>\n",
       "      <th>5</th>\n",
       "      <td>22</td>\n",
       "      <td>3</td>\n",
       "      <td>4</td>\n",
       "    </tr>\n",
       "    <tr>\n",
       "      <th>6</th>\n",
       "      <td>24</td>\n",
       "      <td>4</td>\n",
       "      <td>4</td>\n",
       "    </tr>\n",
       "  </tbody>\n",
       "</table>\n",
       "</div>"
      ],
      "text/plain": [
       "    y  X1  X2\n",
       "0   9   1   1\n",
       "1  12   1   2\n",
       "2  14   2   2\n",
       "3  17   2   3\n",
       "4  19   3   3\n",
       "5  22   3   4\n",
       "6  24   4   4"
      ]
     },
     "execution_count": 2,
     "metadata": {},
     "output_type": "execute_result"
    }
   ],
   "source": [
    "result = defaultdict(list)\n",
    "\n",
    "X = np.array([[1, 1], [1, 2], [2, 2], [2, 3], [3, 3], [3, 4], [4, 4]])\n",
    "y = np.dot(X, np.array([2, 3])) + 4\n",
    "\n",
    "dfs = pd.DataFrame(X, y).reset_index()\n",
    "dfs.columns = ['y', 'X1', 'X2']\n",
    "dfs"
   ]
  },
  {
   "cell_type": "code",
   "execution_count": 3,
   "id": "0a91453d",
   "metadata": {},
   "outputs": [
    {
     "data": {
      "text/html": [
       "<div>\n",
       "<style scoped>\n",
       "    .dataframe tbody tr th:only-of-type {\n",
       "        vertical-align: middle;\n",
       "    }\n",
       "\n",
       "    .dataframe tbody tr th {\n",
       "        vertical-align: top;\n",
       "    }\n",
       "\n",
       "    .dataframe thead th {\n",
       "        text-align: right;\n",
       "    }\n",
       "</style>\n",
       "<table border=\"1\" class=\"dataframe\">\n",
       "  <thead>\n",
       "    <tr style=\"text-align: right;\">\n",
       "      <th></th>\n",
       "      <th>Solver</th>\n",
       "      <th>Weight</th>\n",
       "      <th>Intercept</th>\n",
       "      <th>MSE</th>\n",
       "    </tr>\n",
       "  </thead>\n",
       "  <tbody>\n",
       "    <tr>\n",
       "      <th>0</th>\n",
       "      <td>Default</td>\n",
       "      <td>[1.9999999999999956, 2.999999999999981]</td>\n",
       "      <td>4.0</td>\n",
       "      <td>6.052141e-27</td>\n",
       "    </tr>\n",
       "  </tbody>\n",
       "</table>\n",
       "</div>"
      ],
      "text/plain": [
       "    Solver                                   Weight  Intercept           MSE\n",
       "0  Default  [1.9999999999999956, 2.999999999999981]        4.0  6.052141e-27"
      ]
     },
     "execution_count": 3,
     "metadata": {},
     "output_type": "execute_result"
    }
   ],
   "source": [
    "# solver = default (direct)\n",
    "\n",
    "reg = LinearRegression()\n",
    "reg.fit(X, y)\n",
    "\n",
    "result['Solver'].append('Default')\n",
    "result['Weight'].append(reg.weight_)\n",
    "result['Intercept'].append(reg.intercept_)\n",
    "result['MSE'].append(mean_squared_error(y, reg.predict(X)))\n",
    "\n",
    "pd.DataFrame(result)"
   ]
  },
  {
   "cell_type": "code",
   "execution_count": 4,
   "id": "fbe7261a",
   "metadata": {},
   "outputs": [
    {
     "data": {
      "text/html": [
       "<div>\n",
       "<style scoped>\n",
       "    .dataframe tbody tr th:only-of-type {\n",
       "        vertical-align: middle;\n",
       "    }\n",
       "\n",
       "    .dataframe tbody tr th {\n",
       "        vertical-align: top;\n",
       "    }\n",
       "\n",
       "    .dataframe thead th {\n",
       "        text-align: right;\n",
       "    }\n",
       "</style>\n",
       "<table border=\"1\" class=\"dataframe\">\n",
       "  <thead>\n",
       "    <tr style=\"text-align: right;\">\n",
       "      <th></th>\n",
       "      <th>Solver</th>\n",
       "      <th>Weight</th>\n",
       "      <th>Intercept</th>\n",
       "      <th>MSE</th>\n",
       "    </tr>\n",
       "  </thead>\n",
       "  <tbody>\n",
       "    <tr>\n",
       "      <th>0</th>\n",
       "      <td>Default</td>\n",
       "      <td>[1.9999999999999956, 2.999999999999981]</td>\n",
       "      <td>4.0</td>\n",
       "      <td>6.052141e-27</td>\n",
       "    </tr>\n",
       "    <tr>\n",
       "      <th>1</th>\n",
       "      <td>Direct</td>\n",
       "      <td>[1.9999999999999956, 2.999999999999981]</td>\n",
       "      <td>4.0</td>\n",
       "      <td>6.052141e-27</td>\n",
       "    </tr>\n",
       "  </tbody>\n",
       "</table>\n",
       "</div>"
      ],
      "text/plain": [
       "    Solver                                   Weight  Intercept           MSE\n",
       "0  Default  [1.9999999999999956, 2.999999999999981]        4.0  6.052141e-27\n",
       "1   Direct  [1.9999999999999956, 2.999999999999981]        4.0  6.052141e-27"
      ]
     },
     "execution_count": 4,
     "metadata": {},
     "output_type": "execute_result"
    }
   ],
   "source": [
    "# solver = 'direct'\n",
    "\n",
    "reg_direct = LinearRegression(solver='direct')\n",
    "reg_direct.fit(X, y)\n",
    "\n",
    "result['Solver'].append('Direct')\n",
    "result['Weight'].append(reg_direct.weight_)\n",
    "result['Intercept'].append(reg_direct.intercept_)\n",
    "result['MSE'].append(mean_squared_error(y, reg_direct.predict(X)))\n",
    "\n",
    "pd.DataFrame(result)"
   ]
  },
  {
   "cell_type": "code",
   "execution_count": 5,
   "id": "85a667c5",
   "metadata": {},
   "outputs": [
    {
     "data": {
      "text/html": [
       "<div>\n",
       "<style scoped>\n",
       "    .dataframe tbody tr th:only-of-type {\n",
       "        vertical-align: middle;\n",
       "    }\n",
       "\n",
       "    .dataframe tbody tr th {\n",
       "        vertical-align: top;\n",
       "    }\n",
       "\n",
       "    .dataframe thead th {\n",
       "        text-align: right;\n",
       "    }\n",
       "</style>\n",
       "<table border=\"1\" class=\"dataframe\">\n",
       "  <thead>\n",
       "    <tr style=\"text-align: right;\">\n",
       "      <th></th>\n",
       "      <th>Solver</th>\n",
       "      <th>Weight</th>\n",
       "      <th>Intercept</th>\n",
       "      <th>MSE</th>\n",
       "    </tr>\n",
       "  </thead>\n",
       "  <tbody>\n",
       "    <tr>\n",
       "      <th>0</th>\n",
       "      <td>Default</td>\n",
       "      <td>[1.9999999999999956, 2.999999999999981]</td>\n",
       "      <td>4.00000</td>\n",
       "      <td>6.052141e-27</td>\n",
       "    </tr>\n",
       "    <tr>\n",
       "      <th>1</th>\n",
       "      <td>Direct</td>\n",
       "      <td>[1.9999999999999956, 2.999999999999981]</td>\n",
       "      <td>4.00000</td>\n",
       "      <td>6.052141e-27</td>\n",
       "    </tr>\n",
       "    <tr>\n",
       "      <th>2</th>\n",
       "      <td>Gradient</td>\n",
       "      <td>[1.999932171082563, 3.000097272996497]</td>\n",
       "      <td>3.99988</td>\n",
       "      <td>2.661906e-09</td>\n",
       "    </tr>\n",
       "  </tbody>\n",
       "</table>\n",
       "</div>"
      ],
      "text/plain": [
       "     Solver                                   Weight  Intercept           MSE\n",
       "0   Default  [1.9999999999999956, 2.999999999999981]    4.00000  6.052141e-27\n",
       "1    Direct  [1.9999999999999956, 2.999999999999981]    4.00000  6.052141e-27\n",
       "2  Gradient   [1.999932171082563, 3.000097272996497]    3.99988  2.661906e-09"
      ]
     },
     "execution_count": 5,
     "metadata": {},
     "output_type": "execute_result"
    }
   ],
   "source": [
    "# solver = 'gradient'\n",
    "\n",
    "reg_gradient = LinearRegression(solver='gradient')\n",
    "reg_gradient.fit(X, y)\n",
    "\n",
    "result['Solver'].append('Gradient')\n",
    "result['Weight'].append(reg_gradient.weight_)\n",
    "result['Intercept'].append(reg_gradient.intercept_)\n",
    "result['MSE'].append(mean_squared_error(y, reg_gradient.predict(X)))\n",
    "\n",
    "pd.DataFrame(result)"
   ]
  },
  {
   "cell_type": "markdown",
   "id": "4b029b99",
   "metadata": {},
   "source": [
    "***Saat solver tidak didefinisikan, metode default solver yang digunakan yaitu Direct Solution***"
   ]
  },
  {
   "cell_type": "markdown",
   "id": "9a0fcc93",
   "metadata": {},
   "source": [
    "Dengan menggunakan dataset yang sederhana, metode Gradient Descent dengan hyperparameter default memikili solusi yang cukup mirip dengan metode Direct Solution"
   ]
  },
  {
   "cell_type": "markdown",
   "id": "7d1e168a",
   "metadata": {},
   "source": [
    "# Inflation - BI Rate\n",
    "---"
   ]
  },
  {
   "cell_type": "code",
   "execution_count": 6,
   "id": "f243c11c",
   "metadata": {},
   "outputs": [
    {
     "data": {
      "text/html": [
       "<div>\n",
       "<style scoped>\n",
       "    .dataframe tbody tr th:only-of-type {\n",
       "        vertical-align: middle;\n",
       "    }\n",
       "\n",
       "    .dataframe tbody tr th {\n",
       "        vertical-align: top;\n",
       "    }\n",
       "\n",
       "    .dataframe thead th {\n",
       "        text-align: right;\n",
       "    }\n",
       "</style>\n",
       "<table border=\"1\" class=\"dataframe\">\n",
       "  <thead>\n",
       "    <tr style=\"text-align: right;\">\n",
       "      <th></th>\n",
       "      <th>date</th>\n",
       "      <th>inflation</th>\n",
       "      <th>birate</th>\n",
       "    </tr>\n",
       "  </thead>\n",
       "  <tbody>\n",
       "    <tr>\n",
       "      <th>0</th>\n",
       "      <td>2009-01-01</td>\n",
       "      <td>9.17</td>\n",
       "      <td>8.75</td>\n",
       "    </tr>\n",
       "    <tr>\n",
       "      <th>1</th>\n",
       "      <td>2009-02-01</td>\n",
       "      <td>8.60</td>\n",
       "      <td>8.25</td>\n",
       "    </tr>\n",
       "    <tr>\n",
       "      <th>2</th>\n",
       "      <td>2009-03-01</td>\n",
       "      <td>7.92</td>\n",
       "      <td>7.75</td>\n",
       "    </tr>\n",
       "    <tr>\n",
       "      <th>3</th>\n",
       "      <td>2009-04-01</td>\n",
       "      <td>7.31</td>\n",
       "      <td>7.50</td>\n",
       "    </tr>\n",
       "    <tr>\n",
       "      <th>4</th>\n",
       "      <td>2009-05-01</td>\n",
       "      <td>6.04</td>\n",
       "      <td>7.25</td>\n",
       "    </tr>\n",
       "    <tr>\n",
       "      <th>...</th>\n",
       "      <td>...</td>\n",
       "      <td>...</td>\n",
       "      <td>...</td>\n",
       "    </tr>\n",
       "    <tr>\n",
       "      <th>173</th>\n",
       "      <td>2023-06-01</td>\n",
       "      <td>3.52</td>\n",
       "      <td>5.75</td>\n",
       "    </tr>\n",
       "    <tr>\n",
       "      <th>174</th>\n",
       "      <td>2023-07-01</td>\n",
       "      <td>3.08</td>\n",
       "      <td>5.75</td>\n",
       "    </tr>\n",
       "    <tr>\n",
       "      <th>175</th>\n",
       "      <td>2023-08-01</td>\n",
       "      <td>3.27</td>\n",
       "      <td>5.75</td>\n",
       "    </tr>\n",
       "    <tr>\n",
       "      <th>176</th>\n",
       "      <td>2023-09-01</td>\n",
       "      <td>2.28</td>\n",
       "      <td>5.75</td>\n",
       "    </tr>\n",
       "    <tr>\n",
       "      <th>177</th>\n",
       "      <td>2023-10-01</td>\n",
       "      <td>2.56</td>\n",
       "      <td>6.00</td>\n",
       "    </tr>\n",
       "  </tbody>\n",
       "</table>\n",
       "<p>178 rows × 3 columns</p>\n",
       "</div>"
      ],
      "text/plain": [
       "           date  inflation  birate\n",
       "0    2009-01-01       9.17    8.75\n",
       "1    2009-02-01       8.60    8.25\n",
       "2    2009-03-01       7.92    7.75\n",
       "3    2009-04-01       7.31    7.50\n",
       "4    2009-05-01       6.04    7.25\n",
       "..          ...        ...     ...\n",
       "173  2023-06-01       3.52    5.75\n",
       "174  2023-07-01       3.08    5.75\n",
       "175  2023-08-01       3.27    5.75\n",
       "176  2023-09-01       2.28    5.75\n",
       "177  2023-10-01       2.56    6.00\n",
       "\n",
       "[178 rows x 3 columns]"
      ]
     },
     "execution_count": 6,
     "metadata": {},
     "output_type": "execute_result"
    }
   ],
   "source": [
    "df = pd.read_csv(\"inflation_birate.csv\")\n",
    "df"
   ]
  },
  {
   "cell_type": "markdown",
   "id": "09abd759",
   "metadata": {},
   "source": [
    "## Check the Data Quality\n",
    "---"
   ]
  },
  {
   "cell_type": "code",
   "execution_count": 7,
   "id": "8e79506b",
   "metadata": {},
   "outputs": [
    {
     "data": {
      "text/plain": [
       "date         0\n",
       "inflation    0\n",
       "birate       0\n",
       "dtype: int64"
      ]
     },
     "execution_count": 7,
     "metadata": {},
     "output_type": "execute_result"
    }
   ],
   "source": [
    "# cek missing value\n",
    "df.isna().sum()"
   ]
  },
  {
   "cell_type": "code",
   "execution_count": 8,
   "id": "2f038e3f",
   "metadata": {},
   "outputs": [
    {
     "data": {
      "text/html": [
       "<div>\n",
       "<style scoped>\n",
       "    .dataframe tbody tr th:only-of-type {\n",
       "        vertical-align: middle;\n",
       "    }\n",
       "\n",
       "    .dataframe tbody tr th {\n",
       "        vertical-align: top;\n",
       "    }\n",
       "\n",
       "    .dataframe thead th {\n",
       "        text-align: right;\n",
       "    }\n",
       "</style>\n",
       "<table border=\"1\" class=\"dataframe\">\n",
       "  <thead>\n",
       "    <tr style=\"text-align: right;\">\n",
       "      <th></th>\n",
       "      <th>missing value</th>\n",
       "    </tr>\n",
       "  </thead>\n",
       "  <tbody>\n",
       "    <tr>\n",
       "      <th>date</th>\n",
       "      <td>0</td>\n",
       "    </tr>\n",
       "    <tr>\n",
       "      <th>inflation</th>\n",
       "      <td>0</td>\n",
       "    </tr>\n",
       "    <tr>\n",
       "      <th>birate</th>\n",
       "      <td>0</td>\n",
       "    </tr>\n",
       "  </tbody>\n",
       "</table>\n",
       "</div>"
      ],
      "text/plain": [
       "           missing value\n",
       "date                   0\n",
       "inflation              0\n",
       "birate                 0"
      ]
     },
     "execution_count": 8,
     "metadata": {},
     "output_type": "execute_result"
    }
   ],
   "source": [
    "pd.DataFrame(df.isna().sum()).rename(columns = {0:\"missing value\"})"
   ]
  },
  {
   "cell_type": "code",
   "execution_count": 9,
   "id": "a3d3965a",
   "metadata": {},
   "outputs": [
    {
     "data": {
      "text/plain": [
       "0"
      ]
     },
     "execution_count": 9,
     "metadata": {},
     "output_type": "execute_result"
    }
   ],
   "source": [
    "# cek duplicate data\n",
    "df.duplicated(['date']).sum()"
   ]
  },
  {
   "cell_type": "code",
   "execution_count": 10,
   "id": "7b22797e",
   "metadata": {},
   "outputs": [
    {
     "data": {
      "text/plain": [
       "(178, 3)"
      ]
     },
     "execution_count": 10,
     "metadata": {},
     "output_type": "execute_result"
    }
   ],
   "source": [
    "# data shape\n",
    "df.shape"
   ]
  },
  {
   "cell_type": "markdown",
   "id": "39ca9c9b",
   "metadata": {},
   "source": [
    "## Prediction - Weight and Intercept\n",
    "---"
   ]
  },
  {
   "cell_type": "code",
   "execution_count": 11,
   "id": "41a6a09b",
   "metadata": {},
   "outputs": [],
   "source": [
    "result = defaultdict(list)\n",
    "\n",
    "X = np.array(df[['birate']])\n",
    "y = np.array(list(df['inflation']))"
   ]
  },
  {
   "cell_type": "code",
   "execution_count": 12,
   "id": "550962e8",
   "metadata": {},
   "outputs": [
    {
     "name": "stdout",
     "output_type": "stream",
     "text": [
      "coef\t\t: [1.04404311]\n",
      "intercept\t: -1.6944617248260394\n",
      "mse\t\t: 1.710897760187725\n"
     ]
    }
   ],
   "source": [
    "# solver = 'direct'\n",
    "\n",
    "reg_direct = LinearRegression(solver='direct')\n",
    "reg_direct.fit(X, y)\n",
    "\n",
    "print('coef\\t\\t:', reg_direct.weight_)\n",
    "print('intercept\\t:', reg_direct.intercept_)\n",
    "print('mse\\t\\t:', mean_squared_error(y, reg_direct.predict(X)))"
   ]
  },
  {
   "cell_type": "code",
   "execution_count": 13,
   "id": "ed28803c",
   "metadata": {},
   "outputs": [
    {
     "data": {
      "text/html": [
       "<div>\n",
       "<style scoped>\n",
       "    .dataframe tbody tr th:only-of-type {\n",
       "        vertical-align: middle;\n",
       "    }\n",
       "\n",
       "    .dataframe tbody tr th {\n",
       "        vertical-align: top;\n",
       "    }\n",
       "\n",
       "    .dataframe thead th {\n",
       "        text-align: right;\n",
       "    }\n",
       "</style>\n",
       "<table border=\"1\" class=\"dataframe\">\n",
       "  <thead>\n",
       "    <tr style=\"text-align: right;\">\n",
       "      <th></th>\n",
       "      <th>Learning Rate</th>\n",
       "      <th>Max Iteration</th>\n",
       "      <th>Tolerance</th>\n",
       "      <th>Weight</th>\n",
       "      <th>Intercept</th>\n",
       "      <th>MSE</th>\n",
       "    </tr>\n",
       "  </thead>\n",
       "  <tbody>\n",
       "    <tr>\n",
       "      <th>0</th>\n",
       "      <td>0.1</td>\n",
       "      <td>100</td>\n",
       "      <td>0.001</td>\n",
       "      <td>[-1.2951697552309672e+41]</td>\n",
       "      <td>-2.140257e+40</td>\n",
       "      <td>6.177402e+83</td>\n",
       "    </tr>\n",
       "  </tbody>\n",
       "</table>\n",
       "</div>"
      ],
      "text/plain": [
       "   Learning Rate  Max Iteration  Tolerance                     Weight  \\\n",
       "0            0.1            100      0.001  [-1.2951697552309672e+41]   \n",
       "\n",
       "      Intercept           MSE  \n",
       "0 -2.140257e+40  6.177402e+83  "
      ]
     },
     "execution_count": 13,
     "metadata": {},
     "output_type": "execute_result"
    }
   ],
   "source": [
    "# solver = 'gradient'\n",
    "\n",
    "alpha = 0.1\n",
    "iter_ = 100\n",
    "tol_ = 1e-3\n",
    "result['Learning Rate'].append(alpha)\n",
    "result['Max Iteration'].append(iter_)\n",
    "result['Tolerance'].append(tol_)\n",
    "\n",
    "reg_gradient = LinearRegression(solver='gradient',\n",
    "                       learning_rate=alpha,\n",
    "                       max_iter=iter_,\n",
    "                       tol=tol_)\n",
    "reg_gradient.fit(X, y)\n",
    "\n",
    "result['Weight'].append(reg_gradient.weight_)\n",
    "result['Intercept'].append(reg_gradient.intercept_)\n",
    "result['MSE'].append(mean_squared_error(y, reg_gradient.predict(X)))\n",
    "\n",
    "pd.DataFrame(result)"
   ]
  },
  {
   "cell_type": "code",
   "execution_count": 14,
   "id": "3113e90b",
   "metadata": {},
   "outputs": [
    {
     "data": {
      "text/html": [
       "<div>\n",
       "<style scoped>\n",
       "    .dataframe tbody tr th:only-of-type {\n",
       "        vertical-align: middle;\n",
       "    }\n",
       "\n",
       "    .dataframe tbody tr th {\n",
       "        vertical-align: top;\n",
       "    }\n",
       "\n",
       "    .dataframe thead th {\n",
       "        text-align: right;\n",
       "    }\n",
       "</style>\n",
       "<table border=\"1\" class=\"dataframe\">\n",
       "  <thead>\n",
       "    <tr style=\"text-align: right;\">\n",
       "      <th></th>\n",
       "      <th>Learning Rate</th>\n",
       "      <th>Max Iteration</th>\n",
       "      <th>Tolerance</th>\n",
       "      <th>Weight</th>\n",
       "      <th>Intercept</th>\n",
       "      <th>MSE</th>\n",
       "    </tr>\n",
       "  </thead>\n",
       "  <tbody>\n",
       "    <tr>\n",
       "      <th>0</th>\n",
       "      <td>0.10</td>\n",
       "      <td>100</td>\n",
       "      <td>0.001</td>\n",
       "      <td>[-1.2951697552309672e+41]</td>\n",
       "      <td>-2.140257e+40</td>\n",
       "      <td>6.177402e+83</td>\n",
       "    </tr>\n",
       "    <tr>\n",
       "      <th>1</th>\n",
       "      <td>0.01</td>\n",
       "      <td>100</td>\n",
       "      <td>0.001</td>\n",
       "      <td>[0.7579253337984887]</td>\n",
       "      <td>3.697102e-02</td>\n",
       "      <td>1.860033e+00</td>\n",
       "    </tr>\n",
       "  </tbody>\n",
       "</table>\n",
       "</div>"
      ],
      "text/plain": [
       "   Learning Rate  Max Iteration  Tolerance                     Weight  \\\n",
       "0           0.10            100      0.001  [-1.2951697552309672e+41]   \n",
       "1           0.01            100      0.001       [0.7579253337984887]   \n",
       "\n",
       "      Intercept           MSE  \n",
       "0 -2.140257e+40  6.177402e+83  \n",
       "1  3.697102e-02  1.860033e+00  "
      ]
     },
     "execution_count": 14,
     "metadata": {},
     "output_type": "execute_result"
    }
   ],
   "source": [
    "# solver = 'gradient'\n",
    "\n",
    "alpha = 0.01\n",
    "iter_ = 100\n",
    "tol_ = 1e-3\n",
    "result['Learning Rate'].append(alpha)\n",
    "result['Max Iteration'].append(iter_)\n",
    "result['Tolerance'].append(tol_)\n",
    "\n",
    "reg_gradient = LinearRegression(solver='gradient',\n",
    "                       learning_rate=alpha,\n",
    "                       max_iter=iter_,\n",
    "                       tol=tol_)\n",
    "reg_gradient.fit(X, y)\n",
    "\n",
    "result['Weight'].append(reg_gradient.weight_)\n",
    "result['Intercept'].append(reg_gradient.intercept_)\n",
    "result['MSE'].append(mean_squared_error(y, reg_gradient.predict(X)))\n",
    "\n",
    "pd.DataFrame(result)"
   ]
  },
  {
   "cell_type": "code",
   "execution_count": 15,
   "id": "7de89759",
   "metadata": {},
   "outputs": [
    {
     "data": {
      "text/html": [
       "<div>\n",
       "<style scoped>\n",
       "    .dataframe tbody tr th:only-of-type {\n",
       "        vertical-align: middle;\n",
       "    }\n",
       "\n",
       "    .dataframe tbody tr th {\n",
       "        vertical-align: top;\n",
       "    }\n",
       "\n",
       "    .dataframe thead th {\n",
       "        text-align: right;\n",
       "    }\n",
       "</style>\n",
       "<table border=\"1\" class=\"dataframe\">\n",
       "  <thead>\n",
       "    <tr style=\"text-align: right;\">\n",
       "      <th></th>\n",
       "      <th>Learning Rate</th>\n",
       "      <th>Max Iteration</th>\n",
       "      <th>Tolerance</th>\n",
       "      <th>Weight</th>\n",
       "      <th>Intercept</th>\n",
       "      <th>MSE</th>\n",
       "    </tr>\n",
       "  </thead>\n",
       "  <tbody>\n",
       "    <tr>\n",
       "      <th>0</th>\n",
       "      <td>0.10</td>\n",
       "      <td>100</td>\n",
       "      <td>0.001</td>\n",
       "      <td>[-1.2951697552309672e+41]</td>\n",
       "      <td>-2.140257e+40</td>\n",
       "      <td>6.177402e+83</td>\n",
       "    </tr>\n",
       "    <tr>\n",
       "      <th>1</th>\n",
       "      <td>0.01</td>\n",
       "      <td>100</td>\n",
       "      <td>0.001</td>\n",
       "      <td>[0.7579253337984887]</td>\n",
       "      <td>3.697102e-02</td>\n",
       "      <td>1.860033e+00</td>\n",
       "    </tr>\n",
       "    <tr>\n",
       "      <th>2</th>\n",
       "      <td>0.01</td>\n",
       "      <td>1000</td>\n",
       "      <td>0.001</td>\n",
       "      <td>[0.8590212483668656]</td>\n",
       "      <td>-5.748077e-01</td>\n",
       "      <td>1.773262e+00</td>\n",
       "    </tr>\n",
       "  </tbody>\n",
       "</table>\n",
       "</div>"
      ],
      "text/plain": [
       "   Learning Rate  Max Iteration  Tolerance                     Weight  \\\n",
       "0           0.10            100      0.001  [-1.2951697552309672e+41]   \n",
       "1           0.01            100      0.001       [0.7579253337984887]   \n",
       "2           0.01           1000      0.001       [0.8590212483668656]   \n",
       "\n",
       "      Intercept           MSE  \n",
       "0 -2.140257e+40  6.177402e+83  \n",
       "1  3.697102e-02  1.860033e+00  \n",
       "2 -5.748077e-01  1.773262e+00  "
      ]
     },
     "execution_count": 15,
     "metadata": {},
     "output_type": "execute_result"
    }
   ],
   "source": [
    "# solver = 'gradient'\n",
    "\n",
    "alpha = 0.01\n",
    "iter_ = 1000\n",
    "tol_ = 1e-3\n",
    "result['Learning Rate'].append(alpha)\n",
    "result['Max Iteration'].append(iter_)\n",
    "result['Tolerance'].append(tol_)\n",
    "\n",
    "reg_gradient = LinearRegression(solver='gradient',\n",
    "                       learning_rate=alpha,\n",
    "                       max_iter=iter_,\n",
    "                       tol=tol_)\n",
    "reg_gradient.fit(X, y)\n",
    "\n",
    "result['Weight'].append(reg_gradient.weight_)\n",
    "result['Intercept'].append(reg_gradient.intercept_)\n",
    "result['MSE'].append(mean_squared_error(y, reg_gradient.predict(X)))\n",
    "\n",
    "pd.DataFrame(result)"
   ]
  },
  {
   "cell_type": "code",
   "execution_count": 16,
   "id": "9a461900",
   "metadata": {},
   "outputs": [
    {
     "data": {
      "text/html": [
       "<div>\n",
       "<style scoped>\n",
       "    .dataframe tbody tr th:only-of-type {\n",
       "        vertical-align: middle;\n",
       "    }\n",
       "\n",
       "    .dataframe tbody tr th {\n",
       "        vertical-align: top;\n",
       "    }\n",
       "\n",
       "    .dataframe thead th {\n",
       "        text-align: right;\n",
       "    }\n",
       "</style>\n",
       "<table border=\"1\" class=\"dataframe\">\n",
       "  <thead>\n",
       "    <tr style=\"text-align: right;\">\n",
       "      <th></th>\n",
       "      <th>Learning Rate</th>\n",
       "      <th>Max Iteration</th>\n",
       "      <th>Tolerance</th>\n",
       "      <th>Weight</th>\n",
       "      <th>Intercept</th>\n",
       "      <th>MSE</th>\n",
       "    </tr>\n",
       "  </thead>\n",
       "  <tbody>\n",
       "    <tr>\n",
       "      <th>0</th>\n",
       "      <td>0.10</td>\n",
       "      <td>100</td>\n",
       "      <td>0.001000</td>\n",
       "      <td>[-1.2951697552309672e+41]</td>\n",
       "      <td>-2.140257e+40</td>\n",
       "      <td>6.177402e+83</td>\n",
       "    </tr>\n",
       "    <tr>\n",
       "      <th>1</th>\n",
       "      <td>0.01</td>\n",
       "      <td>100</td>\n",
       "      <td>0.001000</td>\n",
       "      <td>[0.7579253337984887]</td>\n",
       "      <td>3.697102e-02</td>\n",
       "      <td>1.860033e+00</td>\n",
       "    </tr>\n",
       "    <tr>\n",
       "      <th>2</th>\n",
       "      <td>0.01</td>\n",
       "      <td>1000</td>\n",
       "      <td>0.001000</td>\n",
       "      <td>[0.8590212483668656]</td>\n",
       "      <td>-5.748077e-01</td>\n",
       "      <td>1.773262e+00</td>\n",
       "    </tr>\n",
       "    <tr>\n",
       "      <th>3</th>\n",
       "      <td>0.01</td>\n",
       "      <td>1000</td>\n",
       "      <td>0.000001</td>\n",
       "      <td>[0.8590212483668656]</td>\n",
       "      <td>-5.748077e-01</td>\n",
       "      <td>1.773262e+00</td>\n",
       "    </tr>\n",
       "  </tbody>\n",
       "</table>\n",
       "</div>"
      ],
      "text/plain": [
       "   Learning Rate  Max Iteration  Tolerance                     Weight  \\\n",
       "0           0.10            100   0.001000  [-1.2951697552309672e+41]   \n",
       "1           0.01            100   0.001000       [0.7579253337984887]   \n",
       "2           0.01           1000   0.001000       [0.8590212483668656]   \n",
       "3           0.01           1000   0.000001       [0.8590212483668656]   \n",
       "\n",
       "      Intercept           MSE  \n",
       "0 -2.140257e+40  6.177402e+83  \n",
       "1  3.697102e-02  1.860033e+00  \n",
       "2 -5.748077e-01  1.773262e+00  \n",
       "3 -5.748077e-01  1.773262e+00  "
      ]
     },
     "execution_count": 16,
     "metadata": {},
     "output_type": "execute_result"
    }
   ],
   "source": [
    "# solver = 'gradient'\n",
    "\n",
    "alpha = 0.01\n",
    "iter_ = 1000\n",
    "tol_ = 1e-6\n",
    "result['Learning Rate'].append(alpha)\n",
    "result['Max Iteration'].append(iter_)\n",
    "result['Tolerance'].append(tol_)\n",
    "\n",
    "reg_gradient = LinearRegression(solver='gradient',\n",
    "                       learning_rate=alpha,\n",
    "                       max_iter=iter_,\n",
    "                       tol=tol_)\n",
    "reg_gradient.fit(X, y)\n",
    "\n",
    "result['Weight'].append(reg_gradient.weight_)\n",
    "result['Intercept'].append(reg_gradient.intercept_)\n",
    "result['MSE'].append(mean_squared_error(y, reg_gradient.predict(X)))\n",
    "\n",
    "pd.DataFrame(result)"
   ]
  },
  {
   "cell_type": "code",
   "execution_count": 17,
   "id": "513eb1a0",
   "metadata": {},
   "outputs": [
    {
     "data": {
      "text/html": [
       "<div>\n",
       "<style scoped>\n",
       "    .dataframe tbody tr th:only-of-type {\n",
       "        vertical-align: middle;\n",
       "    }\n",
       "\n",
       "    .dataframe tbody tr th {\n",
       "        vertical-align: top;\n",
       "    }\n",
       "\n",
       "    .dataframe thead th {\n",
       "        text-align: right;\n",
       "    }\n",
       "</style>\n",
       "<table border=\"1\" class=\"dataframe\">\n",
       "  <thead>\n",
       "    <tr style=\"text-align: right;\">\n",
       "      <th></th>\n",
       "      <th>Learning Rate</th>\n",
       "      <th>Max Iteration</th>\n",
       "      <th>Tolerance</th>\n",
       "      <th>Weight</th>\n",
       "      <th>Intercept</th>\n",
       "      <th>MSE</th>\n",
       "    </tr>\n",
       "  </thead>\n",
       "  <tbody>\n",
       "    <tr>\n",
       "      <th>0</th>\n",
       "      <td>0.100</td>\n",
       "      <td>100</td>\n",
       "      <td>0.001000</td>\n",
       "      <td>[-1.2951697552309672e+41]</td>\n",
       "      <td>-2.140257e+40</td>\n",
       "      <td>6.177402e+83</td>\n",
       "    </tr>\n",
       "    <tr>\n",
       "      <th>1</th>\n",
       "      <td>0.010</td>\n",
       "      <td>100</td>\n",
       "      <td>0.001000</td>\n",
       "      <td>[0.7579253337984887]</td>\n",
       "      <td>3.697102e-02</td>\n",
       "      <td>1.860033e+00</td>\n",
       "    </tr>\n",
       "    <tr>\n",
       "      <th>2</th>\n",
       "      <td>0.010</td>\n",
       "      <td>1000</td>\n",
       "      <td>0.001000</td>\n",
       "      <td>[0.8590212483668656]</td>\n",
       "      <td>-5.748077e-01</td>\n",
       "      <td>1.773262e+00</td>\n",
       "    </tr>\n",
       "    <tr>\n",
       "      <th>3</th>\n",
       "      <td>0.010</td>\n",
       "      <td>1000</td>\n",
       "      <td>0.000001</td>\n",
       "      <td>[0.8590212483668656]</td>\n",
       "      <td>-5.748077e-01</td>\n",
       "      <td>1.773262e+00</td>\n",
       "    </tr>\n",
       "    <tr>\n",
       "      <th>4</th>\n",
       "      <td>0.001</td>\n",
       "      <td>100000</td>\n",
       "      <td>0.000001</td>\n",
       "      <td>[1.0416746630018967]</td>\n",
       "      <td>-1.680129e+00</td>\n",
       "      <td>1.710908e+00</td>\n",
       "    </tr>\n",
       "  </tbody>\n",
       "</table>\n",
       "</div>"
      ],
      "text/plain": [
       "   Learning Rate  Max Iteration  Tolerance                     Weight  \\\n",
       "0          0.100            100   0.001000  [-1.2951697552309672e+41]   \n",
       "1          0.010            100   0.001000       [0.7579253337984887]   \n",
       "2          0.010           1000   0.001000       [0.8590212483668656]   \n",
       "3          0.010           1000   0.000001       [0.8590212483668656]   \n",
       "4          0.001         100000   0.000001       [1.0416746630018967]   \n",
       "\n",
       "      Intercept           MSE  \n",
       "0 -2.140257e+40  6.177402e+83  \n",
       "1  3.697102e-02  1.860033e+00  \n",
       "2 -5.748077e-01  1.773262e+00  \n",
       "3 -5.748077e-01  1.773262e+00  \n",
       "4 -1.680129e+00  1.710908e+00  "
      ]
     },
     "execution_count": 17,
     "metadata": {},
     "output_type": "execute_result"
    }
   ],
   "source": [
    "# solver = 'gradient'\n",
    "\n",
    "alpha = 0.001\n",
    "iter_ = 100000\n",
    "tol_ = 1e-6\n",
    "result['Learning Rate'].append(alpha)\n",
    "result['Max Iteration'].append(iter_)\n",
    "result['Tolerance'].append(tol_)\n",
    "\n",
    "reg_gradient = LinearRegression(solver='gradient',\n",
    "                       learning_rate=alpha,\n",
    "                       max_iter=iter_,\n",
    "                       tol=tol_)\n",
    "reg_gradient.fit(X, y)\n",
    "\n",
    "result['Weight'].append(reg_gradient.weight_)\n",
    "result['Intercept'].append(reg_gradient.intercept_)\n",
    "result['MSE'].append(mean_squared_error(y, reg_gradient.predict(X)))\n",
    "\n",
    "pd.DataFrame(result)"
   ]
  },
  {
   "cell_type": "markdown",
   "id": "3b571336",
   "metadata": {},
   "source": [
    "Semakin besar maximum iteration serta semakin kecil learning rate dan tolerance pada metode Gradient Descent, akan menghasilkan MSR (Mean Squared Error) yang semakin kecil. Hal ini menunjukkan hyperparameter sangat berpengaruh dalam menentukan titik optimal pada solusi iteratif gradient descent."
   ]
  },
  {
   "cell_type": "code",
   "execution_count": null,
   "id": "89b639c3",
   "metadata": {},
   "outputs": [],
   "source": []
  }
 ],
 "metadata": {
  "kernelspec": {
   "display_name": "Python 3",
   "language": "python",
   "name": "python3"
  },
  "language_info": {
   "codemirror_mode": {
    "name": "ipython",
    "version": 3
   },
   "file_extension": ".py",
   "mimetype": "text/x-python",
   "name": "python",
   "nbconvert_exporter": "python",
   "pygments_lexer": "ipython3",
   "version": "3.8.5"
  },
  "toc": {
   "base_numbering": 1,
   "nav_menu": {},
   "number_sections": true,
   "sideBar": true,
   "skip_h1_title": false,
   "title_cell": "Table of Contents",
   "title_sidebar": "Contents",
   "toc_cell": false,
   "toc_position": {},
   "toc_section_display": true,
   "toc_window_display": false
  }
 },
 "nbformat": 4,
 "nbformat_minor": 5
}
